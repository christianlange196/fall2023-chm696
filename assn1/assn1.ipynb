{
 "cells": [
  {
   "cell_type": "markdown",
   "metadata": {},
   "source": [
    "<h1>Quantum Optics Assignment 1</h1>\n",
    "<h2>Christian Lange</h2>"
   ]
  },
  {
   "cell_type": "code",
   "execution_count": 1,
   "metadata": {},
   "outputs": [],
   "source": [
    "import numpy as np\n",
    "import matplotlib.pyplot as plt"
   ]
  },
  {
   "cell_type": "code",
   "execution_count": 2,
   "metadata": {},
   "outputs": [],
   "source": [
    "### constants ###\n",
    "c = 299792458\n",
    "h_si = 6.626e-34  # J s\n",
    "h_ev = 4.136e-15  # eV s\n",
    "kB = 1.381e-23  # J / K"
   ]
  },
  {
   "cell_type": "markdown",
   "metadata": {},
   "source": [
    "<h4>\n",
    "  Problem 1a\n",
    "</h4>"
   ]
  },
  {
   "cell_type": "code",
   "execution_count": 3,
   "metadata": {},
   "outputs": [
    {
     "name": "stdout",
     "output_type": "stream",
     "text": [
      "Problem 1a\n",
      "Photon energy: 2.33e-19 J or 1.46 eV\n",
      "Photon frequency: 351.9 THz\n",
      "Temperature: 1.69e+04 K\n"
     ]
    }
   ],
   "source": [
    "wl = 852e-9  # wavelength of cesium in nm\n",
    "f = c / wl\n",
    "E_joules = h_si * f  # J\n",
    "E_ev = h_ev * f  # eV\n",
    "T = E_joules / kB\n",
    "\n",
    "print(\"Problem 1a\")\n",
    "print(f\"Photon energy: {E_joules:.03} J or {E_ev:.03} eV\")\n",
    "print(f\"Photon frequency: {f*1e-12:.04n} THz\")\n",
    "print(f\"Temperature: {T:.03} K\")\n"
   ]
  },
  {
   "cell_type": "markdown",
   "metadata": {},
   "source": [
    "<h4>\n",
    "  Problem 1b\n",
    "</h4>"
   ]
  },
  {
   "cell_type": "code",
   "execution_count": 4,
   "metadata": {},
   "outputs": [
    {
     "name": "stdout",
     "output_type": "stream",
     "text": [
      "Velocity: 4.2e+03 m/s\n"
     ]
    }
   ],
   "source": [
    "wl = 589e-9  # wavelength of sodium in nm\n",
    "u = 1.66e-27  # kg\n",
    "m = 22.99 * u\n",
    "\n",
    "f = c / wl\n",
    "E = f * h_si\n",
    "v = np.sqrt(2 * E / m)\n",
    "print(f\"Velocity: {v:.03} m/s\")"
   ]
  },
  {
   "cell_type": "markdown",
   "metadata": {},
   "source": [
    "<h4>\n",
    "  Problem 1c\n",
    "</h4>"
   ]
  },
  {
   "cell_type": "code",
   "execution_count": 5,
   "metadata": {},
   "outputs": [
    {
     "name": "stdout",
     "output_type": "stream",
     "text": [
      "Recoil velocity: 0.0295 m/s\n",
      "Recoil energy: 1.66e-29 J or 2.5023254157294932e+16 THz\n",
      "Recoil temperature: 1.2 uK\n"
     ]
    }
   ],
   "source": [
    "p = h_si / wl\n",
    "v = p / m\n",
    "E = 1/2 * m * v**2\n",
    "print(f\"Recoil velocity: {v:.03} m/s\")\n",
    "print(f\"Recoil energy: {E:.03} J or {E/h_si*1e12} THz\")\n",
    "print(f\"Recoil temperature: {E/kB*1e6:.03n} uK\")"
   ]
  },
  {
   "cell_type": "markdown",
   "metadata": {},
   "source": [
    "<h4>\n",
    "  Problem 2a\n",
    "</h4>"
   ]
  },
  {
   "cell_type": "markdown",
   "metadata": {},
   "source": [
    "Functions of $\\bf{r}$ commute with $\\bf{r}$, and likewise with $\\bf{p}$. \n",
    "$$\n",
    "\\left[{\\bf r},{\\bf A}({\\bf r},t)\\right]\t=0 \\\\\n",
    "\\left[{\\bf r},U({\\bf r},t)\\right]\t=0\n",
    "$$"
   ]
  },
  {
   "cell_type": "markdown",
   "metadata": {},
   "source": [
    "<h4>\n",
    "  Problem 2b\n",
    "</h4>"
   ]
  },
  {
   "cell_type": "markdown",
   "metadata": {},
   "source": [
    "$$\n",
    "H=\\frac{1}{2m}\\sum_{i=x,y,z}\\left[p_{i}^{2}+q^{2}A_{i}^{2}\\left({\\bf r},t\\right)-qp_{i}A_{i}\\left({\\bf r},t\\right)-qA_{i}\\left({\\bf r},t\\right)p_{i}\\right]+qU\\left({\\bf r},t\\right) \\\\\n",
    "\n",
    "$$"
   ]
  },
  {
   "cell_type": "markdown",
   "metadata": {},
   "source": [
    "$$\n",
    "\\begin{aligned}\n",
    "\\left[x,H\\right]\t&=\\frac{1}{2m}\\sum_{i=x,y,z}\\left\\{ \\left[x,p_{i}^{2}\\right]-q\\left[x,p_{i}A_{i}\\left({\\bf r},t\\right)\\right]-q\\left[x,A_{i}\\left({\\bf r},t\\right)p_{i}\\right]\\right\\} \\\\\n",
    "\t&=\\frac{1}{2m}\\left\\{ p_{x}\\left[x,p_{x}\\right]+\\left[x,p_{x}\\right]p_{x}-q\\left[x,p_{x}\\right]A_{x}\\left({\\bf r},t\\right)-qA_{i}\\left({\\bf r},t\\right)\\left[x,p_{x}\\right]\\right\\} \\\\\n",
    "\t&=\\frac{1}{2m}\\left\\{ 2i\\hbar p_{x}-2qi\\hbar A_{x}\\left({\\bf r},t\\right)\\right\\} \\\\\n",
    "\t&=\\frac{i\\hbar}{m}\\left\\{ p_{x}-qA_{x}\\left({\\bf r},t\\right)\\right\\} \n",
    "\\end{aligned}\n",
    "$$"
   ]
  },
  {
   "cell_type": "markdown",
   "metadata": {},
   "source": [
    "$$\n",
    "\\begin{aligned}\n",
    "\\frac{d}{dt}\\left\\langle x\\right\\rangle \t=\\frac{1}{i\\hbar}\\left\\langle \\left[x,H\\right]\\right\\rangle +\\left\\langle \\frac{\\partial}{\\partial t}x\\right\\rangle \\\\\n",
    "\t=\\frac{1}{m}\\left\\langle p_{x}-qA_{x}\\left({\\bf r},t\\right)\\right\\rangle \n",
    "\\end{aligned}\n",
    "$$"
   ]
  },
  {
   "cell_type": "markdown",
   "metadata": {},
   "source": [
    "Similarly for $y$ and $z$,\n",
    "$$\n",
    "\\begin{aligned}\n",
    "\\frac{d}{dt}\\left\\langle y\\right\\rangle \t=\\frac{1}{m}\\left\\langle p_{y}-qA_{y}\\left({\\bf r},t\\right)\\right\\rangle \\\\\n",
    "\\frac{d}{dt}\\left\\langle z\\right\\rangle \t=\\frac{1}{m}\\left\\langle p_{z}-qA_{z}\\left({\\bf r},t\\right)\\right\\rangle \n",
    "\\end{aligned}\n",
    "$$"
   ]
  },
  {
   "cell_type": "markdown",
   "metadata": {},
   "source": [
    "The velocity is therefore\n",
    "$$\n",
    "\\left\\langle {\\bf v}\\right\\rangle =\\frac{1}{m}\\left\\langle {\\bf p}-q{\\bf A}\\left({\\bf r},t\\right)\\right\\rangle \n",
    "$$"
   ]
  },
  {
   "cell_type": "markdown",
   "metadata": {},
   "source": [
    "<h4>\n",
    "  Problem 2c\n",
    "</h4>"
   ]
  },
  {
   "cell_type": "markdown",
   "metadata": {},
   "source": [
    "\\begin{aligned}\n",
    "\\frac{d}{dt}\\left\\langle {\\bf v}\\right\\rangle \t&=\\frac{1}{i\\hbar}\\left\\langle \\left[{\\bf v},H\\right]\\right\\rangle +\\left\\langle \\frac{\\partial}{\\partial t}{\\bf v}\\right\\rangle \\\\\n",
    "\t&=\\frac{1}{i\\hbar}\\left\\langle \\left[{\\bf v},qU\\left({\\bf r},t\\right)\\right]\\right\\rangle -\\frac{q}{m}\\left\\langle \\frac{\\partial}{\\partial t}{\\bf A}\\left({\\bf r},t\\right)\\right\\rangle \\\\\n",
    "\t&=\\frac{1}{i\\hbar}\\left\\langle \\left[\\frac{{\\bf p}}{m},qU\\left({\\bf r},t\\right)\\right]\\right\\rangle -\\frac{q}{m}\\left\\langle \\frac{\\partial}{\\partial t}{\\bf A}\\left({\\bf r},t\\right)\\right\\rangle \n",
    "\\end{aligned}"
   ]
  },
  {
   "cell_type": "markdown",
   "metadata": {},
   "source": [
    "Using $\\left[p,f(x)\\right]=-i\\hbar\\partial_{x}f(x)$, this is \n",
    "\\begin{aligned}\n",
    "\\frac{d}{dt}\\left\\langle {\\bf v}\\right\\rangle \t&=\\frac{q}{m}\\frac{1}{i\\hbar}\\left\\langle -i\\hbar\\nabla U\\left({\\bf r},t\\right)\\right\\rangle -\\frac{q}{m}\\left\\langle \\frac{\\partial}{\\partial t}{\\bf A}\\left({\\bf r},t\\right)\\right\\rangle \\\\\n",
    "\t&=-\\frac{q}{m}\\left\\langle \\nabla U\\left({\\bf r},t\\right)\\right\\rangle -\\frac{q}{m}\\left\\langle \\frac{\\partial}{\\partial t}{\\bf A}\\left({\\bf r},t\\right)\\right\\rangle \n",
    "\\end{aligned}"
   ]
  },
  {
   "cell_type": "markdown",
   "metadata": {},
   "source": [
    "According to physics stackexchange, ${\\bf E}=-\\frac{\\partial{\\bf A}}{\\partial t}$. This means that our force $m\\frac{d}{dt}\\left\\langle {\\bf v}\\right\\rangle$  has a clear classical analogue. \n",
    "\\begin{aligned}\n",
    "m{\\bf a}=-q\\nabla U\\left({\\bf r},t\\right)+q{\\bf E}\n",
    "\\end{aligned}"
   ]
  },
  {
   "cell_type": "markdown",
   "metadata": {},
   "source": [
    "<h4>\n",
    "  Problem 3a\n",
    "</h4>"
   ]
  },
  {
   "cell_type": "markdown",
   "metadata": {},
   "source": [
    "\\begin{aligned}\n",
    "\n",
    "\\left|\\psi\\right\\rangle \t&=\\left(\\begin{array}{c}\n",
    "\\sqrt{3/4}\\\\\n",
    "-i/2\n",
    "\\end{array}\\right) \\\\\n",
    "\n",
    "\\left\\langle \\psi\\right|\t&=\\left(\\begin{array}{cc}\n",
    "\\sqrt{3/4} & i/2\\end{array}\\right) \\\\\n",
    "\n",
    "\\rho_{\\text{pure}} &=\\left|\\psi\\right\\rangle \\left\\langle \\psi\\right|=\\left(\\begin{array}{cc}\n",
    "3/4 & i\\sqrt{3}/4\\\\\n",
    "-i\\sqrt{3}/4 & 1/4\n",
    "\\end{array}\\right)\n",
    "\\end{aligned}"
   ]
  },
  {
   "cell_type": "markdown",
   "metadata": {},
   "source": [
    "<h4>\n",
    "  Problem 3b\n",
    "</h4>"
   ]
  },
  {
   "cell_type": "markdown",
   "metadata": {},
   "source": [
    "\\begin{aligned}\n",
    "\\rho_{1}\t&=\\frac{3}{4}\\left|g\\right\\rangle \\left\\langle g\\right|=\\frac{3}{4}\\left(\\begin{array}{cc}\n",
    "1 & 0\\\\\n",
    "0 & 0\n",
    "\\end{array}\\right) \\\\\n",
    "\\rho_{2}\t&=\\frac{1}{4}\\left|e\\right\\rangle \\left\\langle e\\right|=\\frac{1}{4}\\left(\\begin{array}{cc}\n",
    "0 & 0\\\\\n",
    "0 & 1\n",
    "\\end{array}\\right)\n",
    "\\end{aligned}"
   ]
  },
  {
   "cell_type": "markdown",
   "metadata": {},
   "source": [
    "\\begin{aligned}\n",
    "\\rho_{\\text{impure}}=\\rho_{1}+\\rho_{2}=\\left(\\begin{array}{cc}\n",
    "3/4 & 0\\\\\n",
    "0 & 1/4\n",
    "\\end{array}\\right)\n",
    "\\end{aligned}"
   ]
  },
  {
   "cell_type": "markdown",
   "metadata": {},
   "source": [
    "<h4>\n",
    "  Problem 3c\n",
    "</h4>"
   ]
  },
  {
   "cell_type": "markdown",
   "metadata": {},
   "source": [
    "In the pure ensemble, all atoms are in a definite state $\\left|\\psi\\right\\rangle$ . In the impure ensemble, a proportion of atoms are in each state. Therefore, if we could devise an experiment to determine the likelihood of an atom being in $\\left|\\psi\\right\\rangle$ , we would get different answers for the two ensembles. For (a), we would get unity. For (b), we would get an answer based on the projection of the component states onto $\\left|\\psi\\right\\rangle$ . Let $A=\\left|\\psi\\right\\rangle \\left\\langle \\psi\\right|$ be the observable that we can measure. "
   ]
  },
  {
   "cell_type": "markdown",
   "metadata": {},
   "source": [
    "\\begin{aligned}\n",
    "\\left\\langle A\\right\\rangle _{(\\text{pure})}=\\text{Tr}\\left[\\rho_{\\text{pure}}A\\right]=\\text{Tr}\\left[\\rho_{\\text{pure}}^{2}\\right]=1\n",
    "\\end{aligned}"
   ]
  },
  {
   "cell_type": "markdown",
   "metadata": {},
   "source": [
    "\\begin{aligned}\n",
    "\\left\\langle A\\right\\rangle _{(\\text{impure})}=\\text{Tr}\\left[\\rho_{\\text{impure}}A\\right]=\\text{Tr}\\left[\\left(\\begin{array}{cc}\n",
    "(3/4)^{2} & i3^{3/2}/16\\\\\n",
    "-i\\sqrt{3}/16 & 1/16\n",
    "\\end{array}\\right)\\right]=10/16\n",
    "\\end{aligned}"
   ]
  },
  {
   "cell_type": "markdown",
   "metadata": {},
   "source": [
    "<h4>\n",
    "  Problem 3d\n",
    "</h4>"
   ]
  },
  {
   "cell_type": "markdown",
   "metadata": {},
   "source": [
    "If we use a basis in which $\\rho$ is diagonal, the entropy is simply\n",
    "\n",
    "$$\n",
    "S=-k_{B}\\text{Tr}\\left[\\rho\\ln\\rho\\right]=-k_{B}\\sum_{k}\\rho_{k}^{(\\text{diag})}\\ln\\rho_{k}^{(\\text{diag})}.\n",
    "$$\n",
    "\n",
    "For the pure state, the eigenvalues are 1 and 0. \n",
    "\n",
    "$$\n",
    "S_{\\text{pure}}=-k_{B}\\left[1\\cdot\\ln1+\\lim_{x\\rightarrow0^{+}}x\\ln x\\right].\n",
    "$$\n",
    "\n",
    "We can evaluate the limit using L'hopital's rule. Note that we have to write it as a fraction. \n",
    "\n",
    "$$\n",
    "\\lim_{x\\rightarrow0^{+}}x\\ln x=\\lim_{x\\rightarrow0^{+}}\\frac{\\ln x}{1/x}=\\lim_{x\\rightarrow0^{+}}-\\frac{1/x}{1/x^{2}}=\\lim_{x\\rightarrow0^{+}}-x=0\n",
    "$$\n",
    "\n",
    "So the entropy of a pure state is zero! \n",
    "\n",
    "$$\n",
    "S_{\\text{pure}}=0\n",
    "$$\n",
    "\n",
    "For the mixed state, \n",
    "\n",
    "$$\n",
    "S_{\\text{impure}}=-k_{B}\\left[3/4\\cdot\\ln3/4+1/4\\cdot\\ln1/4\\right]\\approx0.562k_{B}\n",
    "$$"
   ]
  },
  {
   "cell_type": "code",
   "execution_count": 6,
   "metadata": {},
   "outputs": [
    {
     "name": "stdout",
     "output_type": "stream",
     "text": [
      "Entropy: 0.562 kB\n"
     ]
    }
   ],
   "source": [
    "S = -(3/4 * np.log(3/4) + 1/4 * np.log(1/4))\n",
    "print(f\"Entropy: {S:.03} kB\")"
   ]
  },
  {
   "cell_type": "markdown",
   "metadata": {},
   "source": [
    "<h4>\n",
    "  Problem 3e\n",
    "</h4>"
   ]
  },
  {
   "cell_type": "markdown",
   "metadata": {},
   "source": [
    "In this case, we only consider two states $\\left|g\\right\\rangle$  and $\\left|e\\right\\rangle$ , with energy 0 and 1. \n",
    "\n",
    "$$\n",
    "\\rho=\\frac{1}{Z}\\left(\\left|g\\right\\rangle \\left\\langle g\\right|+e^{-1/k_{B}T}\\left|e\\right\\rangle \\left\\langle e\\right|\\right)\n",
    "$$\n",
    "\n",
    "At $T=0, \\, e^{-1/k_{B}T}\\rightarrow0$ and the population is purely in the ground state. As $T\\rightarrow\\infty, \\, e^{-1/k_{B}T}\\rightarrow1$ and the density matrix is a statistical mixture of ground and excited. \n",
    "\n",
    "$$\n",
    "\\rho_{T\\rightarrow\\infty}=\\left(\\begin{array}{cc}\n",
    "1/2 & 0\\\\\n",
    "0 & 1/2\n",
    "\\end{array}\\right)\n",
    "$$"
   ]
  },
  {
   "cell_type": "markdown",
   "metadata": {},
   "source": [
    "<h2>\n",
    "  Appendices\n",
    "</h2>"
   ]
  },
  {
   "cell_type": "markdown",
   "metadata": {},
   "source": [
    "<h4>\n",
    "    Commutator of momentum and a position-dependent function\n",
    "</h4>"
   ]
  },
  {
   "cell_type": "markdown",
   "metadata": {},
   "source": [
    "\\begin{aligned}\n",
    "\n",
    "\\left\\langle x\\right|\\left[\\hat{p},f(\\hat{x})\\right]\\left|\\psi\\right\\rangle \t&=\\left\\langle x\\right|\\left(\\hat{p}f(\\hat{x})-f(\\hat{x})\\hat{p}\\right)\\left|\\psi\\right\\rangle \\\\\n",
    "\t&=-i\\hbar\\partial_{x}\\left(f(x)\\psi(x)\\right)-i\\hbar f(x)\\partial_{x}\\psi(x) \\\\\n",
    "\t&=-i\\hbar\\left(\\partial_{x}f(x)\\right)\\psi(x)\n",
    "\n",
    "\\end{aligned}"
   ]
  }
 ],
 "metadata": {
  "kernelspec": {
   "display_name": "hoodlab",
   "language": "python",
   "name": "python3"
  },
  "language_info": {
   "codemirror_mode": {
    "name": "ipython",
    "version": 3
   },
   "file_extension": ".py",
   "mimetype": "text/x-python",
   "name": "python",
   "nbconvert_exporter": "python",
   "pygments_lexer": "ipython3",
   "version": "3.11.3"
  },
  "orig_nbformat": 4
 },
 "nbformat": 4,
 "nbformat_minor": 2
}
