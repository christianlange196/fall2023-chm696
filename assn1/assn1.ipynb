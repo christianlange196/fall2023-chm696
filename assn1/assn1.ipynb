{
 "cells": [
  {
   "cell_type": "code",
   "execution_count": 2,
   "metadata": {},
   "outputs": [],
   "source": [
    "import numpy as np\n",
    "import matplotlib.pyplot as plt"
   ]
  },
  {
   "cell_type": "code",
   "execution_count": 3,
   "metadata": {},
   "outputs": [],
   "source": [
    "### constants ###\n",
    "c = 299792458\n",
    "h_si = 6.626e-34  # J s\n",
    "h_ev = 4.136e-15  # eV s\n",
    "kB = 1.381e-23  # J / K"
   ]
  },
  {
   "cell_type": "code",
   "execution_count": 4,
   "metadata": {},
   "outputs": [
    {
     "name": "stdout",
     "output_type": "stream",
     "text": [
      "Problem 1a\n",
      "Energy: 2.33e-28 J\n",
      "Energy: 1.46e-09 eV\n",
      "Temperature: 1.69e-05\n"
     ]
    }
   ],
   "source": [
    "### Problem 1a ###\n",
    "wl = 852  # wavelength of cesium in nm\n",
    "f = c / wl\n",
    "E_joules = h_si * f  # J\n",
    "E_ev = h_ev * f  # eV\n",
    "T = E_joules / kB\n",
    "\n",
    "print(\"Problem 1a\")\n",
    "print(f\"Energy: {E_joules:.03} J\")\n",
    "print(f\"Energy: {E_ev:.03} eV\")\n",
    "print(f\"Temperature: {T:.03}\")\n"
   ]
  },
  {
   "cell_type": "code",
   "execution_count": 5,
   "metadata": {},
   "outputs": [
    {
     "name": "stdout",
     "output_type": "stream",
     "text": [
      "Problem 1b\n",
      "Velocity: 0.133 m/s\n",
      "\n",
      "Problem 1c\n",
      "Momentum of the photon: 1.12e-36 m kg/s\n",
      "Recoil velocity: 2.95e-11 m/s or 29.5 pm/s\n",
      "Recoil energy: 1.66e-47 J or 0.025023254157294936 THz\n"
     ]
    }
   ],
   "source": [
    "### Problem 1b ###\n",
    "wl = 589  # wavelength of sodium in nm\n",
    "u = 1.66e-27  # kg\n",
    "m = 22.99 * u\n",
    "\n",
    "f = c / wl\n",
    "E = f * h_si\n",
    "v = np.sqrt(2 * E / m)\n",
    "print(\"Problem 1b\")\n",
    "print(f\"Velocity: {v:.03} m/s\")\n",
    "\n",
    "### Problem 1c ###\n",
    "p = h_si / wl\n",
    "v = p / m\n",
    "E = 1/2 * m * v**2\n",
    "print(\"\\nProblem 1c\")\n",
    "print(f\"Momentum of the photon: {p:.03} m kg/s\")\n",
    "print(f\"Recoil velocity: {v:.03} m/s or {v*1e12:.03} pm/s\")\n",
    "print(f\"Recoil energy: {E:.03} J or {E/h_si*1e12} THz\")"
   ]
  },
  {
   "cell_type": "code",
   "execution_count": 15,
   "metadata": {},
   "outputs": [
    {
     "name": "stdout",
     "output_type": "stream",
     "text": [
      "Entropy: 0.562 kB\n"
     ]
    }
   ],
   "source": [
    "### Problem 3d ###\n",
    "S = -(3/4 * np.log(3/4) + 1/4 * np.log(1/4))\n",
    "print(f\"Entropy: {S:.03} kB\")"
   ]
  },
  {
   "cell_type": "code",
   "execution_count": null,
   "metadata": {},
   "outputs": [],
   "source": []
  }
 ],
 "metadata": {
  "kernelspec": {
   "display_name": "hoodlab",
   "language": "python",
   "name": "python3"
  },
  "language_info": {
   "codemirror_mode": {
    "name": "ipython",
    "version": 3
   },
   "file_extension": ".py",
   "mimetype": "text/x-python",
   "name": "python",
   "nbconvert_exporter": "python",
   "pygments_lexer": "ipython3",
   "version": "3.11.3"
  },
  "orig_nbformat": 4
 },
 "nbformat": 4,
 "nbformat_minor": 2
}
