{
 "cells": [
  {
   "cell_type": "markdown",
   "metadata": {},
   "source": [
    "# Assignment 4"
   ]
  },
  {
   "cell_type": "code",
   "execution_count": 62,
   "metadata": {},
   "outputs": [],
   "source": [
    "import numpy as np\n",
    "import sympy as sp\n",
    "from qutip import *\n",
    "import matplotlib.pyplot as plt\n",
    "sp.init_printing()"
   ]
  },
  {
   "cell_type": "markdown",
   "metadata": {},
   "source": [
    "## Problem 1(a)"
   ]
  },
  {
   "cell_type": "code",
   "execution_count": 63,
   "metadata": {},
   "outputs": [
    {
     "data": {
      "image/png": "[encoded data removed]",
      "text/latex": [
       "$\\displaystyle \\left[\\begin{matrix}\\rho_{11}{\\left(t \\right)} & \\rho_{21}{\\left(t \\right)}\\\\\\rho_{12}{\\left(t \\right)} & \\rho_{22}{\\left(t \\right)}\\end{matrix}\\right]$"
      ],
      "text/plain": [
       "⎡ρ₁₁(t)  ρ₂₁(t)⎤\n",
       "⎢              ⎥\n",
       "⎣ρ₁₂(t)  ρ₂₂(t)⎦"
      ]
     },
     "execution_count": 63,
     "metadata": {},
     "output_type": "execute_result"
    }
   ],
   "source": [
    "# Set up the density matrix\n",
    "t = sp.Symbol('t', real=True)\n",
    "rho = sp.Matrix([[sp.Function('rho_' + i + j)(t) for i in ['1', '2']] for j in ['1', '2']])\n",
    "# rho[1,1] = 1 - rho[0,0]\n",
    "rho"
   ]
  },
  {
   "cell_type": "code",
   "execution_count": 64,
   "metadata": {},
   "outputs": [],
   "source": [
    "# Define the lowering operator\n",
    "sm = sp.Matrix([[0, 0], [1, 0]])\n",
    "\n",
    "commutator = lambda A, B: A*B - B*A\n",
    "antiCommutator = lambda A, B: A*B + B*A"
   ]
  },
  {
   "cell_type": "code",
   "execution_count": 65,
   "metadata": {},
   "outputs": [],
   "source": [
    "Omega = 0  #sp.symbols('Omega')\n",
    "Gamma = sp.symbols('Gamma')\n",
    "omega = sp.symbols('omega')"
   ]
  },
  {
   "cell_type": "code",
   "execution_count": 66,
   "metadata": {},
   "outputs": [
    {
     "data": {
      "image/png": "[encoded data removed]",
      "text/latex": [
       "$\\displaystyle \\left[\\begin{matrix}\\omega & 0\\\\0 & 0\\end{matrix}\\right]$"
      ],
      "text/plain": [
       "⎡ω  0⎤\n",
       "⎢    ⎥\n",
       "⎣0  0⎦"
      ]
     },
     "execution_count": 66,
     "metadata": {},
     "output_type": "execute_result"
    }
   ],
   "source": [
    "# Define the Hamiltonian\n",
    "H = omega * sm.H * sm + Omega * (sm.H + sm) \n",
    "H"
   ]
  },
  {
   "cell_type": "code",
   "execution_count": 67,
   "metadata": {},
   "outputs": [
    {
     "data": {
      "image/png": "[encoded data removed]",
      "text/latex": [
       "$\\displaystyle \\left[\\begin{matrix}- \\Gamma \\rho_{11}{\\left(t \\right)} & - \\frac{\\Gamma \\rho_{21}{\\left(t \\right)}}{2}\\\\- \\frac{\\Gamma \\rho_{12}{\\left(t \\right)}}{2} & \\Gamma \\rho_{11}{\\left(t \\right)}\\end{matrix}\\right]$"
      ],
      "text/plain": [
       "⎡            -Γ⋅ρ₂₁(t) ⎤\n",
       "⎢-Γ⋅ρ₁₁(t)   ──────────⎥\n",
       "⎢                2     ⎥\n",
       "⎢                      ⎥\n",
       "⎢-Γ⋅ρ₁₂(t)             ⎥\n",
       "⎢──────────   Γ⋅ρ₁₁(t) ⎥\n",
       "⎣    2                 ⎦"
      ]
     },
     "execution_count": 67,
     "metadata": {},
     "output_type": "execute_result"
    }
   ],
   "source": [
    "# Define the Lindblad operator\n",
    "L = Gamma * (sm * rho * sm.H - sp.Rational(1,2) * antiCommutator(sm.H * sm, rho))\n",
    "L"
   ]
  },
  {
   "cell_type": "code",
   "execution_count": 68,
   "metadata": {},
   "outputs": [
    {
     "data": {
      "image/png": "[encoded data removed]",
      "text/latex": [
       "$\\displaystyle \\left[\\begin{matrix}- \\Gamma \\rho_{11}{\\left(t \\right)} & - \\frac{\\Gamma \\rho_{21}{\\left(t \\right)}}{2} - i \\omega \\rho_{21}{\\left(t \\right)}\\\\- \\frac{\\Gamma \\rho_{12}{\\left(t \\right)}}{2} + i \\omega \\rho_{12}{\\left(t \\right)} & \\Gamma \\rho_{11}{\\left(t \\right)}\\end{matrix}\\right]$"
      ],
      "text/plain": [
       "⎡                           Γ⋅ρ₂₁(t)             ⎤\n",
       "⎢       -Γ⋅ρ₁₁(t)         - ──────── - ⅈ⋅ω⋅ρ₂₁(t)⎥\n",
       "⎢                              2                 ⎥\n",
       "⎢                                                ⎥\n",
       "⎢  Γ⋅ρ₁₂(t)                                      ⎥\n",
       "⎢- ──────── + ⅈ⋅ω⋅ρ₁₂(t)         Γ⋅ρ₁₁(t)        ⎥\n",
       "⎣     2                                          ⎦"
      ]
     },
     "execution_count": 68,
     "metadata": {},
     "output_type": "execute_result"
    }
   ],
   "source": [
    "rhs = -sp.I * commutator(H, rho) + L\n",
    "rhs"
   ]
  },
  {
   "cell_type": "code",
   "execution_count": 69,
   "metadata": {},
   "outputs": [
    {
     "data": {
      "image/png": "[encoded data removed]",
      "text/latex": [
       "$\\displaystyle \\left[\\begin{matrix}\\frac{d}{d t} \\rho_{11}{\\left(t \\right)} & \\frac{d}{d t} \\rho_{21}{\\left(t \\right)}\\\\\\frac{d}{d t} \\rho_{12}{\\left(t \\right)} & \\frac{d}{d t} \\rho_{22}{\\left(t \\right)}\\end{matrix}\\right]$"
      ],
      "text/plain": [
       "⎡d           d         ⎤\n",
       "⎢──(ρ₁₁(t))  ──(ρ₂₁(t))⎥\n",
       "⎢dt          dt        ⎥\n",
       "⎢                      ⎥\n",
       "⎢d           d         ⎥\n",
       "⎢──(ρ₁₂(t))  ──(ρ₂₂(t))⎥\n",
       "⎣dt          dt        ⎦"
      ]
     },
     "execution_count": 69,
     "metadata": {},
     "output_type": "execute_result"
    }
   ],
   "source": [
    "lhs = rho.applyfunc(lambda x: sp.diff(x, t))\n",
    "lhs"
   ]
  },
  {
   "cell_type": "code",
   "execution_count": 70,
   "metadata": {},
   "outputs": [
    {
     "data": {
      "image/png": "[encoded data removed]",
      "text/latex": [
       "$\\displaystyle \\left[ \\frac{d}{d t} \\rho_{11}{\\left(t \\right)} = - \\Gamma \\rho_{11}{\\left(t \\right)}, \\  \\frac{d}{d t} \\rho_{21}{\\left(t \\right)} = - \\frac{\\Gamma \\rho_{21}{\\left(t \\right)}}{2} - i \\omega \\rho_{21}{\\left(t \\right)}, \\  \\frac{d}{d t} \\rho_{12}{\\left(t \\right)} = - \\frac{\\Gamma \\rho_{12}{\\left(t \\right)}}{2} + i \\omega \\rho_{12}{\\left(t \\right)}, \\  \\frac{d}{d t} \\rho_{22}{\\left(t \\right)} = \\Gamma \\rho_{11}{\\left(t \\right)}\\right]$"
      ],
      "text/plain": [
       "⎡d                       d              Γ⋅ρ₂₁(t)               d              \n",
       "⎢──(ρ₁₁(t)) = -Γ⋅ρ₁₁(t), ──(ρ₂₁(t)) = - ──────── - ⅈ⋅ω⋅ρ₂₁(t), ──(ρ₁₂(t)) = - \n",
       "⎣dt                      dt                2                   dt             \n",
       "\n",
       "Γ⋅ρ₁₂(t)               d                    ⎤\n",
       "──────── + ⅈ⋅ω⋅ρ₁₂(t), ──(ρ₂₂(t)) = Γ⋅ρ₁₁(t)⎥\n",
       "   2                   dt                   ⎦"
      ]
     },
     "execution_count": 70,
     "metadata": {},
     "output_type": "execute_result"
    }
   ],
   "source": [
    "eqnlist = [sp.Eq(lhs[i,j], rhs[i,j]) for i in range(2) for j in range(2)]\n",
    "eqnlist"
   ]
  },
  {
   "cell_type": "code",
   "execution_count": 71,
   "metadata": {},
   "outputs": [
    {
     "data": {
      "image/png": "[encoded data removed]",
      "text/latex": [
       "$\\displaystyle \\left[ \\rho_{11}{\\left(t \\right)} = - C_{1} e^{- \\Gamma t}, \\  \\rho_{21}{\\left(t \\right)} = C_{2} e^{- \\frac{t \\left(\\Gamma + 2 i \\omega\\right)}{2}}, \\  \\rho_{12}{\\left(t \\right)} = C_{3} e^{- \\frac{t \\left(\\Gamma - 2 i \\omega\\right)}{2}}, \\  \\rho_{22}{\\left(t \\right)} = C_{1} e^{- \\Gamma t} + C_{4}\\right]$"
      ],
      "text/plain": [
       "⎡                                 -t⋅(Γ + 2⋅ⅈ⋅ω)                -t⋅(Γ - 2⋅ⅈ⋅ω)\n",
       "⎢                                 ───────────────               ──────────────\n",
       "⎢              -Γ⋅t                      2                             2      \n",
       "⎣ρ₁₁(t) = -C₁⋅ℯ    , ρ₂₁(t) = C₂⋅ℯ               , ρ₁₂(t) = C₃⋅ℯ              \n",
       "\n",
       "                         ⎤\n",
       "─                        ⎥\n",
       "                -Γ⋅t     ⎥\n",
       " , ρ₂₂(t) = C₁⋅ℯ     + C₄⎦"
      ]
     },
     "execution_count": 71,
     "metadata": {},
     "output_type": "execute_result"
    }
   ],
   "source": [
    "solution = sp.dsolve(eqnlist)\n",
    "solution"
   ]
  },
  {
   "cell_type": "markdown",
   "metadata": {},
   "source": [
    "## Problem 1(b)"
   ]
  },
  {
   "cell_type": "code",
   "execution_count": 73,
   "metadata": {},
   "outputs": [],
   "source": [
    "ics = {rho[0,0].subs(t, 0): 1, rho[1,1].subs(t, 0): 0, rho[0,1].subs(t, 0): 0, rho[1,0].subs(t, 0): 0}\n",
    "solution = sp.dsolve(eqnlist, ics=ics)"
   ]
  },
  {
   "cell_type": "code",
   "execution_count": 74,
   "metadata": {},
   "outputs": [
    {
     "data": {
      "image/png": "[encoded data removed]",
      "text/latex": [
       "$\\displaystyle \\left[ \\rho_{11}{\\left(t \\right)} = e^{- \\Gamma t}, \\  \\rho_{21}{\\left(t \\right)} = 0, \\  \\rho_{12}{\\left(t \\right)} = 0, \\  \\rho_{22}{\\left(t \\right)} = 1 - e^{- \\Gamma t}\\right]$"
      ],
      "text/plain": [
       "⎡          -Γ⋅t                                        -Γ⋅t⎤\n",
       "⎣ρ₁₁(t) = ℯ    , ρ₂₁(t) = 0, ρ₁₂(t) = 0, ρ₂₂(t) = 1 - ℯ    ⎦"
      ]
     },
     "execution_count": 74,
     "metadata": {},
     "output_type": "execute_result"
    }
   ],
   "source": [
    "solution"
   ]
  },
  {
   "cell_type": "code",
   "execution_count": null,
   "metadata": {},
   "outputs": [],
   "source": []
  }
 ],
 "metadata": {
  "kernelspec": {
   "display_name": "phys",
   "language": "python",
   "name": "python3"
  },
  "language_info": {
   "codemirror_mode": {
    "name": "ipython",
    "version": 3
   },
   "file_extension": ".py",
   "mimetype": "text/x-python",
   "name": "python",
   "nbconvert_exporter": "python",
   "pygments_lexer": "ipython3",
   "version": "3.11.5"
  },
  "orig_nbformat": 4
 },
 "nbformat": 4,
 "nbformat_minor": 2
}
