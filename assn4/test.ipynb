{
 "cells": [
  {
   "cell_type": "code",
   "execution_count": 20,
   "metadata": {},
   "outputs": [],
   "source": [
    "import numpy as np\n",
    "import qutip\n",
    "\n",
    "def qubit_integrate(w, theta, gamma1, gamma2, psi0, tlist):\n",
    "    # operators and the hamiltonian\n",
    "    sx = qutip.sigmax()\n",
    "    sy = qutip.sigmay()\n",
    "    sz = qutip.sigmaz()\n",
    "    sm = qutip.sigmam()\n",
    "    H = w * (np.cos(theta) * sz + np.sin(theta) * sx)\n",
    "    # collapse operators\n",
    "    c_op_list = []\n",
    "    n_th = 0.5 # temperature\n",
    "    rate = gamma1 * (n_th + 1)\n",
    "    if rate > 0.0: c_op_list.append(np.sqrt(rate) * sm)\n",
    "    rate = gamma1 * n_th\n",
    "    if rate > 0.0: c_op_list.append(np.sqrt(rate) * sm.dag())\n",
    "    rate = gamma2\n",
    "    if rate > 0.0: c_op_list.append(np.sqrt(rate) * sz)\n",
    "    # evolve and calculate expectation values\n",
    "    output = qutip.mesolve(H, psi0, tlist, c_op_list, [sx, sy, sz])\n",
    "    return output.expect[0], output.expect[1], output.expect[2]\n",
    "\n",
    "## calculate the dynamics\n",
    "w     = 1.0 * 2 * np.pi  # qubit angular frequency\n",
    "theta = 0.2 * np.pi      # qubit angle from sigma_z axis (toward sigma_x axis)\n",
    "gamma1 = 0.5             # qubit relaxation rate\n",
    "gamma2 = 0.2             # qubit dephasing rate\n",
    "# initial state\n",
    "a = 1.0\n",
    "psi0 = (a*qutip.basis(2, 0) + (1-a)*qutip.basis(2, 1))/np.sqrt(a**2 + (1-a)**2)\n",
    "tlist = np.linspace(0, 4, 250)\n",
    "#expectation values for ploting\n",
    "sx, sy, sz = qubit_integrate(w, theta, gamma1, gamma2, psi0, tlist)"
   ]
  },
  {
   "cell_type": "code",
   "execution_count": 21,
   "metadata": {},
   "outputs": [],
   "source": [
    "import numpy as np\n",
    "b = qutip.Bloch()\n",
    "b.vector_color = ['r']\n",
    "b.view = [-40, 30]\n",
    "for i in range(len(sx)):\n",
    "    b.clear()\n",
    "    b.add_vectors([np.sin(theta), 0, np.cos(theta)])\n",
    "    b.add_points([sx[:i+1], sy[:i+1], sz[:i+1]])\n",
    "    b.save(dirc='temp')  # saving images to temp directory in current working directory"
   ]
  },
  {
   "cell_type": "code",
   "execution_count": null,
   "metadata": {},
   "outputs": [],
   "source": [
    "from matplotlib import pyplot, animation\n",
    "from mpl_toolkits.mplot3d import Axes3D\n",
    "\n",
    "fig = pyplot.figure()\n",
    "ax = Axes3D(fig, azim=-40, elev=30)\n",
    "sphere = qutip.Bloch(axes=ax)\n",
    "\n",
    "def animate(i):\n",
    "   sphere.clear()\n",
    "   sphere.add_vectors([np.sin(theta), 0, np.cos(theta)])\n",
    "   sphere.add_points([sx[:i+1], sy[:i+1], sz[:i+1]])\n",
    "   sphere.make_sphere()\n",
    "   return ax\n",
    "\n",
    "def init():\n",
    "   sphere.vector_color = ['r']\n",
    "   return ax\n",
    "\n",
    "ani = animation.FuncAnimation(fig, animate, np.arange(len(sx)),\n",
    "                              init_func=init, blit=False, repeat=False)\n",
    "ani.save('bloch_sphere.mp4', fps=20)"
   ]
  }
 ],
 "metadata": {
  "kernelspec": {
   "display_name": "phys",
   "language": "python",
   "name": "python3"
  },
  "language_info": {
   "codemirror_mode": {
    "name": "ipython",
    "version": 3
   },
   "file_extension": ".py",
   "mimetype": "text/x-python",
   "name": "python",
   "nbconvert_exporter": "python",
   "pygments_lexer": "ipython3",
   "version": "3.11.3"
  }
 },
 "nbformat": 4,
 "nbformat_minor": 2
}
