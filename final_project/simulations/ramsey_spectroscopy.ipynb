{
 "cells": [
  {
   "cell_type": "code",
   "execution_count": 9,
   "metadata": {},
   "outputs": [],
   "source": [
    "import numpy as np \n",
    "import matplotlib.pyplot as plt\n",
    "from qutip import *"
   ]
  },
  {
   "cell_type": "markdown",
   "metadata": {},
   "source": [
    "<h2>\n",
    "    <center>\n",
    "        General Ramsey Spectroscopy\n",
    "    </center>\n",
    "</h2>\n",
    "\n",
    "Suppose that we have a pulse with turn-on time much faster than the time scale of the system. According to [Physics Stack Exchange](https://physics.stackexchange.com/questions/226115/exact-meaning-of-pi-2-pulse) the pulse operates on the system as\n",
    "\n",
    "$$\n",
    "R_z(\\theta) = \\cos(\\theta/2) \\mathbb{I} - i \\sin(\\theta/2) \\sigma_z\n",
    "$$\n",
    "\n",
    "where $\\theta$ is the rotation angle of the qubit state and \\mathbb{I} is the identity operator. "
   ]
  },
  {
   "cell_type": "code",
   "execution_count": 34,
   "metadata": {},
   "outputs": [],
   "source": [
    "class N_dipole_system:\n",
    "    def __init__(self, N):\n",
    "        # Number of atoms \n",
    "        self.N = N\n",
    "\n",
    "        ### Hamiltonian ###\n",
    "        self.H = 0\n",
    "\n",
    "        ### annihilation operators ###\n",
    "        idatom = qeye(2)  # identity operator\n",
    "        sm = projection(2, 0, 1)  # |1><0| for an Ns-state system\n",
    "\n",
    "        self.sm_list = []\n",
    "        for i in range(N):\n",
    "            op_list = [idatom] * N\n",
    "            op_list[i] = sm\n",
    "            self.sm_list.append(tensor(op_list))\n",
    "\n",
    "        \n",
    "        ### initial states ###\n",
    "        self.ket_excited = ket( [1]*N, dim = [2] * N)\n",
    "        self.ket_ground = ket( [0]*N, dim = [2] * N)\n",
    "\n",
    "        # total spin operators\n",
    "        self.id_tot = tensor([qeye(2)] * N)\n",
    "        self.sm_tot = self.ket_ground * self.ket_excited.dag()\n",
    "        self.sp_tot = self.sm_tot.dag()\n",
    "        self.sz_tot = self.sp_tot * self.sm_tot - self.sm_tot * self.sp_tot\n",
    "    \n",
    "    def Rz(self, theta):\n",
    "        return np.cos(theta/2)*self.id_tot - 1j*np.sin(theta/2)*self.sz_tot\n",
    "    \n",
    "    def pulse(self, psi, theta):\n",
    "        return self.Rz(theta) * psi\n",
    "\n",
    "    def evolve(self, psi0, tlist, e_ops, c_ops=[], store_states=True):\n",
    "        return mesolve(self.H, psi0, tlist, c_ops=c_ops, e_ops=e_ops, store_states=store_states, store_final_state=True)"
   ]
  },
  {
   "cell_type": "markdown",
   "metadata": {},
   "source": [
    "<h2>\n",
    "    <center>\n",
    "        Two non-interacting atoms with different frequencies\n",
    "    </center>\n",
    "</h2>\n",
    "\n",
    "Suppose that we have two non-interacting atoms with different frequencies. The Hamiltonian of the system is\n",
    "\n",
    "$$\n",
    "H = \\frac{\\hbar \\omega_1}{2} \\sigma_1^\\dagger \\sigma_1 + \\frac{\\hbar \\omega_2}{2} \\sigma_2^\\dagger \\sigma_2\n",
    "$$\n",
    "\n",
    "where $\\omega_1$ and $\\omega_2$ are the frequencies of the two atoms. For simplicity, we assume that the decay time is much longer than the time scale of the experiment. "
   ]
  },
  {
   "cell_type": "code",
   "execution_count": 36,
   "metadata": {},
   "outputs": [
    {
     "name": "stdout",
     "output_type": "stream",
     "text": [
      "Quantum object: dims = [[2, 2], [1, 1]], shape = (4, 1), type = ket\n",
      "Qobj data =\n",
      "[[0.70710678+0.70710678j]\n",
      " [0.        +0.j        ]\n",
      " [0.        +0.j        ]\n",
      " [0.        +0.j        ]]\n"
     ]
    },
    {
     "ename": "TypeError",
     "evalue": "mesolve() got an unexpected keyword argument 'store_states'",
     "output_type": "error",
     "traceback": [
      "\u001b[1;31m---------------------------------------------------------------------------\u001b[0m",
      "\u001b[1;31mTypeError\u001b[0m                                 Traceback (most recent call last)",
      "\u001b[1;32md:\\GitHub\\fall2023-chm696\\final_project\\simulations\\ramsey_spectroscopy.ipynb Cell 5\u001b[0m line \u001b[0;36m1\n\u001b[0;32m     <a href='vscode-notebook-cell:/d%3A/GitHub/fall2023-chm696/final_project/simulations/ramsey_spectroscopy.ipynb#X15sZmlsZQ%3D%3D?line=10'>11</a>\u001b[0m \u001b[39mprint\u001b[39m(psi0)\n\u001b[0;32m     <a href='vscode-notebook-cell:/d%3A/GitHub/fall2023-chm696/final_project/simulations/ramsey_spectroscopy.ipynb#X15sZmlsZQ%3D%3D?line=12'>13</a>\u001b[0m tlist \u001b[39m=\u001b[39m np\u001b[39m.\u001b[39mlinspace(\u001b[39m0\u001b[39m, \u001b[39m1\u001b[39m, \u001b[39m100\u001b[39m)\n\u001b[1;32m---> <a href='vscode-notebook-cell:/d%3A/GitHub/fall2023-chm696/final_project/simulations/ramsey_spectroscopy.ipynb#X15sZmlsZQ%3D%3D?line=13'>14</a>\u001b[0m res \u001b[39m=\u001b[39m sys\u001b[39m.\u001b[39;49mevolve(psi0, tlist, [sys\u001b[39m.\u001b[39;49msm_list[\u001b[39m0\u001b[39;49m]\u001b[39m.\u001b[39;49mdag() \u001b[39m*\u001b[39;49m sys\u001b[39m.\u001b[39;49msm_list[\u001b[39m0\u001b[39;49m]])\n\u001b[0;32m     <a href='vscode-notebook-cell:/d%3A/GitHub/fall2023-chm696/final_project/simulations/ramsey_spectroscopy.ipynb#X15sZmlsZQ%3D%3D?line=14'>15</a>\u001b[0m \u001b[39mprint\u001b[39m(res\u001b[39m.\u001b[39mstates)\n\u001b[0;32m     <a href='vscode-notebook-cell:/d%3A/GitHub/fall2023-chm696/final_project/simulations/ramsey_spectroscopy.ipynb#X15sZmlsZQ%3D%3D?line=16'>17</a>\u001b[0m \u001b[39m# plot\u001b[39;00m\n",
      "\u001b[1;32md:\\GitHub\\fall2023-chm696\\final_project\\simulations\\ramsey_spectroscopy.ipynb Cell 5\u001b[0m line \u001b[0;36m3\n\u001b[0;32m     <a href='vscode-notebook-cell:/d%3A/GitHub/fall2023-chm696/final_project/simulations/ramsey_spectroscopy.ipynb#X15sZmlsZQ%3D%3D?line=35'>36</a>\u001b[0m \u001b[39mdef\u001b[39;00m \u001b[39mevolve\u001b[39m(\u001b[39mself\u001b[39m, psi0, tlist, e_ops, c_ops\u001b[39m=\u001b[39m[], store_states\u001b[39m=\u001b[39m\u001b[39mTrue\u001b[39;00m):\n\u001b[1;32m---> <a href='vscode-notebook-cell:/d%3A/GitHub/fall2023-chm696/final_project/simulations/ramsey_spectroscopy.ipynb#X15sZmlsZQ%3D%3D?line=36'>37</a>\u001b[0m     \u001b[39mreturn\u001b[39;00m mesolve(\u001b[39mself\u001b[39;49m\u001b[39m.\u001b[39;49mH, psi0, tlist, c_ops\u001b[39m=\u001b[39;49mc_ops, e_ops\u001b[39m=\u001b[39;49me_ops, store_states\u001b[39m=\u001b[39;49mstore_states, store_final_state\u001b[39m=\u001b[39;49m\u001b[39mTrue\u001b[39;49;00m)\n",
      "\u001b[1;31mTypeError\u001b[0m: mesolve() got an unexpected keyword argument 'store_states'"
     ]
    }
   ],
   "source": [
    "sys = N_dipole_system(2)\n",
    "\n",
    "omega_0 = -1/2\n",
    "omega_1 = 1/2\n",
    "sys.H = sum([\n",
    "    omega_0 * sys.sm_list[0].dag() * sys.sm_list[0]\n",
    "])\n",
    "\n",
    "psi0 = sys.ket_ground\n",
    "psi0 = sys.pulse(psi0, np.pi/2)\n",
    "print(psi0)\n",
    "\n",
    "tlist = np.linspace(0, 1, 100)\n",
    "res = sys.evolve(psi0, tlist, [sys.sm_list[0].dag() * sys.sm_list[0]])\n",
    "print(res.states)\n",
    "\n",
    "# plot\n",
    "plt.subplots(figsize=(10, 6))\n",
    "plt.plot(tlist, res.expect[0], label=\"excited\")\n",
    "plt.xlabel('Time')\n",
    "plt.ylabel('Occupation probability')"
   ]
  },
  {
   "cell_type": "code",
   "execution_count": 27,
   "metadata": {},
   "outputs": [
    {
     "data": {
      "text/plain": [
       "[]"
      ]
     },
     "execution_count": 27,
     "metadata": {},
     "output_type": "execute_result"
    }
   ],
   "source": [
    "res.states"
   ]
  }
 ],
 "metadata": {
  "kernelspec": {
   "display_name": "phys",
   "language": "python",
   "name": "python3"
  },
  "language_info": {
   "codemirror_mode": {
    "name": "ipython",
    "version": 3
   },
   "file_extension": ".py",
   "mimetype": "text/x-python",
   "name": "python",
   "nbconvert_exporter": "python",
   "pygments_lexer": "ipython3",
   "version": "3.11.5"
  }
 },
 "nbformat": 4,
 "nbformat_minor": 2
}
