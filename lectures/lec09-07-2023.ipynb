{
 "cells": [
  {
   "cell_type": "markdown",
   "metadata": {},
   "source": [
    "<h1>\n",
    "    Thermal photon gas \n",
    "</h1>"
   ]
  },
  {
   "cell_type": "markdown",
   "metadata": {},
   "source": [
    "$$\n",
    "\\beta = \\frac{1}{k_B T}\n",
    "$$\n",
    "\n",
    "$$\n",
    "\\rho_{n}=e^{-\\beta E_{n}}\n",
    "$$\n",
    "\n",
    "The energy is \n",
    "\n",
    "$$\n",
    "E_{n}=\\hbar\\omega\\left(n+\\frac{1}{2}\\right)\n",
    "$$\n",
    "\n",
    "and the partition function is \n",
    "\n",
    "$$\n",
    "Z=\\sum_{n}e^{-\\beta E_{n}}\n",
    "$$"
   ]
  },
  {
   "cell_type": "code",
   "execution_count": 1,
   "metadata": {},
   "outputs": [],
   "source": [
    "import numpy as np\n",
    "import matplotlib.pyplot as plt\n",
    "from qutip import *"
   ]
  },
  {
   "cell_type": "code",
   "execution_count": 4,
   "metadata": {},
   "outputs": [
    {
     "ename": "ValueError",
     "evalue": "Hilbert space dimension must be integer value",
     "output_type": "error",
     "traceback": [
      "\u001b[1;31m---------------------------------------------------------------------------\u001b[0m",
      "\u001b[1;31mValueError\u001b[0m                                Traceback (most recent call last)",
      "Cell \u001b[1;32mIn[4], line 3\u001b[0m\n\u001b[0;32m      1\u001b[0m Nf \u001b[39m=\u001b[39m \u001b[39m5\u001b[39m  \u001b[39m# number of photon bases\u001b[39;00m\n\u001b[1;32m----> 3\u001b[0m a \u001b[39m=\u001b[39m tensor(destroy(basis(Nf)))\n",
      "File \u001b[1;32mc:\\Users\\chris\\Anaconda3\\envs\\hoodlab\\Lib\\site-packages\\qutip\\operators.py:347\u001b[0m, in \u001b[0;36mdestroy\u001b[1;34m(N, offset)\u001b[0m\n\u001b[0;32m    318\u001b[0m \u001b[39m\u001b[39m\u001b[39m'''Destruction (lowering) operator.\u001b[39;00m\n\u001b[0;32m    319\u001b[0m \n\u001b[0;32m    320\u001b[0m \u001b[39mParameters\u001b[39;00m\n\u001b[1;32m   (...)\u001b[0m\n\u001b[0;32m    344\u001b[0m \n\u001b[0;32m    345\u001b[0m \u001b[39m'''\u001b[39;00m\n\u001b[0;32m    346\u001b[0m \u001b[39mif\u001b[39;00m \u001b[39mnot\u001b[39;00m \u001b[39misinstance\u001b[39m(N, (\u001b[39mint\u001b[39m, np\u001b[39m.\u001b[39minteger)):  \u001b[39m# raise error if N not integer\u001b[39;00m\n\u001b[1;32m--> 347\u001b[0m     \u001b[39mraise\u001b[39;00m \u001b[39mValueError\u001b[39;00m(\u001b[39m\"\u001b[39m\u001b[39mHilbert space dimension must be integer value\u001b[39m\u001b[39m\"\u001b[39m)\n\u001b[0;32m    348\u001b[0m data \u001b[39m=\u001b[39m np\u001b[39m.\u001b[39msqrt(np\u001b[39m.\u001b[39marange(offset\u001b[39m+\u001b[39m\u001b[39m1\u001b[39m, N\u001b[39m+\u001b[39moffset, dtype\u001b[39m=\u001b[39m\u001b[39mcomplex\u001b[39m))\n\u001b[0;32m    349\u001b[0m ind \u001b[39m=\u001b[39m np\u001b[39m.\u001b[39marange(\u001b[39m1\u001b[39m,N, dtype\u001b[39m=\u001b[39mnp\u001b[39m.\u001b[39mint32)\n",
      "\u001b[1;31mValueError\u001b[0m: Hilbert space dimension must be integer value"
     ]
    }
   ],
   "source": [
    "Nf = 5  # number of photon bases\n",
    "\n",
    "a = tensor(destroy(basis(Nf)))"
   ]
  },
  {
   "cell_type": "code",
   "execution_count": null,
   "metadata": {},
   "outputs": [],
   "source": []
  }
 ],
 "metadata": {
  "kernelspec": {
   "display_name": "hoodlab",
   "language": "python",
   "name": "python3"
  },
  "language_info": {
   "codemirror_mode": {
    "name": "ipython",
    "version": 3
   },
   "file_extension": ".py",
   "mimetype": "text/x-python",
   "name": "python",
   "nbconvert_exporter": "python",
   "pygments_lexer": "ipython3",
   "version": "3.11.3"
  },
  "orig_nbformat": 4
 },
 "nbformat": 4,
 "nbformat_minor": 2
}
